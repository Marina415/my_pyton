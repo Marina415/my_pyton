{
 "cells": [
  {
   "cell_type": "code",
   "execution_count": 7,
   "metadata": {},
   "outputs": [],
   "source": [
    "def future_ball():    \n",
    "    try:\n",
    "        with open('answers.txt') as file:\n",
    "            lines=file.readlines()\n",
    "    except FileNotFoundError:\n",
    "        s='Шар сломан'\n",
    "        return s\n",
    "    lst=[]\n",
    "    for i in lines:\n",
    "        lst.append(i.strip())\n",
    "    while True:\n",
    "        ques=input(\"Введите вопрос или введите 0, чтобы закончить: \")\n",
    "        if ques=='0':\n",
    "            print('Конец игры!')\n",
    "            break\n",
    "        else:\n",
    "            import random\n",
    "            answ=random.choice(lst)\n",
    "            print(answ)"
   ]
  },
  {
   "cell_type": "code",
   "execution_count": 8,
   "metadata": {},
   "outputs": [
    {
     "name": "stdin",
     "output_type": "stream",
     "text": [
      "Введите вопрос или введите 0, чтобы закончить:  0\n"
     ]
    },
    {
     "name": "stdout",
     "output_type": "stream",
     "text": [
      "Конец игры!\n"
     ]
    }
   ],
   "source": [
    "future_ball()"
   ]
  },
  {
   "cell_type": "code",
   "execution_count": null,
   "metadata": {},
   "outputs": [],
   "source": []
  }
 ],
 "metadata": {
  "kernelspec": {
   "display_name": "Python 3",
   "language": "python",
   "name": "python3"
  },
  "language_info": {
   "codemirror_mode": {
    "name": "ipython",
    "version": 3
   },
   "file_extension": ".py",
   "mimetype": "text/x-python",
   "name": "python",
   "nbconvert_exporter": "python",
   "pygments_lexer": "ipython3",
   "version": "3.7.4"
  }
 },
 "nbformat": 4,
 "nbformat_minor": 4
}
