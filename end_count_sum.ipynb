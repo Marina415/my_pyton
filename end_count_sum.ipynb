{
 "cells": [
  {
   "cell_type": "code",
   "execution_count": 5,
   "metadata": {},
   "outputs": [
    {
     "name": "stdin",
     "output_type": "stream",
     "text": [
      "Введите число: fhj\n",
      "Повторите ввод числа: 8\n",
      "Введите число: 9\n",
      "Введите число: стоп\n"
     ]
    },
    {
     "name": "stdout",
     "output_type": "stream",
     "text": [
      "17\n"
     ]
    }
   ],
   "source": [
    "sum=0\n",
    "while True:   \n",
    "    x=input(\"Введите число:\")\n",
    "    if x.isdigit():\n",
    "        x=int(x)\n",
    "        sum=sum+x\n",
    "    elif x==\"стоп\":\n",
    "        print(sum)\n",
    "        break\n",
    "    else:\n",
    "        x=input(\"Повторите ввод числа:\")\n",
    "        sum=sum+int(x)\n",
    "        "
   ]
  },
  {
   "cell_type": "code",
   "execution_count": null,
   "metadata": {},
   "outputs": [],
   "source": []
  }
 ],
 "metadata": {
  "kernelspec": {
   "display_name": "Python 3",
   "language": "python",
   "name": "python3"
  },
  "language_info": {
   "codemirror_mode": {
    "name": "ipython",
    "version": 3
   },
   "file_extension": ".py",
   "mimetype": "text/x-python",
   "name": "python",
   "nbconvert_exporter": "python",
   "pygments_lexer": "ipython3",
   "version": "3.7.4"
  }
 },
 "nbformat": 4,
 "nbformat_minor": 4
}
