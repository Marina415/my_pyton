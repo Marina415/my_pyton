{
 "cells": [
  {
   "cell_type": "code",
   "execution_count": 5,
   "metadata": {},
   "outputs": [
    {
     "name": "stdin",
     "output_type": "stream",
     "text": [
      "Введите число или стоп для выхода: 5\n"
     ]
    },
    {
     "name": "stdout",
     "output_type": "stream",
     "text": [
      "Число не угадано, введите чило меньше \n"
     ]
    },
    {
     "name": "stdin",
     "output_type": "stream",
     "text": [
      "Введите число или стоп для выхода: стоп\n"
     ]
    },
    {
     "name": "stdout",
     "output_type": "stream",
     "text": [
      "Конец игры\n"
     ]
    }
   ],
   "source": [
    "import random\n",
    "x=random.randint(1,10)\n",
    "p=6\n",
    "i=0\n",
    "while True:   \n",
    "    n=input('Введите число или стоп для выхода:')\n",
    "    if n==\"стоп\":\n",
    "        print(\"Конец игры\")\n",
    "        break\n",
    "    else:\n",
    "        n=int(n)\n",
    "    if n==x:\n",
    "        print(\"Число угадано верно!\")\n",
    "        break\n",
    "    elif i<p-1:\n",
    "        if n>x:\n",
    "            i=i+1\n",
    "            print(\"Число не угадано, введите чило меньше \")\n",
    "        else:\n",
    "            i=i+1\n",
    "            print(\"Число не угадано, введите чило больше \")\n",
    "    else:\n",
    "        print(\"Проигрыш!\")\n",
    "        break"
   ]
  },
  {
   "cell_type": "code",
   "execution_count": null,
   "metadata": {},
   "outputs": [],
   "source": []
  }
 ],
 "metadata": {
  "kernelspec": {
   "display_name": "Python 3",
   "language": "python",
   "name": "python3"
  },
  "language_info": {
   "codemirror_mode": {
    "name": "ipython",
    "version": 3
   },
   "file_extension": ".py",
   "mimetype": "text/x-python",
   "name": "python",
   "nbconvert_exporter": "python",
   "pygments_lexer": "ipython3",
   "version": "3.7.4"
  }
 },
 "nbformat": 4,
 "nbformat_minor": 4
}
