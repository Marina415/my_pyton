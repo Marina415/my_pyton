{
 "cells": [
  {
   "cell_type": "code",
   "execution_count": 27,
   "metadata": {},
   "outputs": [],
   "source": [
    "with open('mobi_dik.txt') as file:\n",
    "    lines=file.readlines()\n",
    "lst=[]\n",
    "for i in lines:\n",
    "    lst.append(i)\n",
    "for i in lst:\n",
    "    lstnew.append(i.lower())\n",
    "trantab=str.maketrans({\".\":None,\",\":None,\":\":None,\";\":None,\"?\":None,\"!\":None,\"-\":None,\" \":'\\n'})\n",
    "for i in range(len(lstnew)):\n",
    "    lstnew[i]=lstnew[i].translate(trantab)\n",
    "with open(\"moby_clean.txt\",'a') as output_file:\n",
    "    for st in lstnew:\n",
    "         output_file.write(st)"
   ]
  }
 ],
 "metadata": {
  "kernelspec": {
   "display_name": "Python 3",
   "language": "python",
   "name": "python3"
  },
  "language_info": {
   "codemirror_mode": {
    "name": "ipython",
    "version": 3
   },
   "file_extension": ".py",
   "mimetype": "text/x-python",
   "name": "python",
   "nbconvert_exporter": "python",
   "pygments_lexer": "ipython3",
   "version": "3.7.4"
  }
 },
 "nbformat": 4,
 "nbformat_minor": 4
}
