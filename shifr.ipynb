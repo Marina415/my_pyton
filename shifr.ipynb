{
 "cells": [
  {
   "cell_type": "code",
   "execution_count": 18,
   "metadata": {},
   "outputs": [],
   "source": [
    "codes={\"А\" : \"%\" , \"а\" : \"9\" , \"Б\" : \"@\", \"б\" : \"#\",\"В\" : \"1\" ,\"в\" : \"q\" ,\"Г\" : \"/\" ,\"г\" : \"*\" ,\"Д\" : \"2\" ,\"д\" : \"w\" ,\"E\" : \"e\" ,\"e\" : \"r\" ,\"Ж\" : \"t\" ,\"ж\" : \"y\" ,\"З\" : \"u\" ,\"з\" : \"i\" ,\"И\" : \"o\" ,\"и\" : \"p\" ,\"Й\" : \"!\" ,\"й\" : \"№\" ,\"К\" : \"?\" ,\"к\" : \")\" ,\"Л\" : \"(\" ,\"л\" : \"^\" ,\"М\" : \"&\" ,\"м\" : \"-\" ,\"Н\" : \"+\" ,\"н\" : \"}\" ,\"О\" : \"|\" ,\"о\" : \"a\" ,\"П\" : \"s\" ,\"п\" : \"d\" ,\"Р\" : \"f\" ,\"р\" : \"g\" ,\"С\" : \"h\" ,\"с\" : \"j\" ,\"Т\" : \"k\" ,\"т\" : \"l\" ,\"У\" : \";\" ,\"у\" : \":\" ,\"Ф\" : \">\" ,\"ф\" : \"<\" ,\"Х\" : \"=\" ,\"х\" : \"z\" ,\"Ц\" : \"x\" ,\"ц\" : \"c\" ,\"Ч\" : \"v\" ,\"ч\" : \"b\" ,\"Ш\" : \"n\" ,\"ш\" : \"m\" ,\"Щ\" : \"`\" ,\"щ\" : \"~\" ,\"ъ\" : \"3\" ,\"ы\" : \"4\" ,\"ь\" : \"5\" ,\"Э\" : \"6\" ,\"э\" : \"7\" ,\"Ю\" : \"8\" ,\"ю\" : \"]\" ,\"Я\" : \"0\" ,\"я\" : \"{\"  }"
   ]
  },
  {
   "cell_type": "code",
   "execution_count": 19,
   "metadata": {},
   "outputs": [],
   "source": [
    "def shifr():\n",
    "    file_name=input('Введите имя файла: ')\n",
    "    try:\n",
    "        with open(file_name) as file:\n",
    "            lines=file.readlines()\n",
    "    except FileNotFoundError:\n",
    "        print(\"Такого файла не существует\")       \n",
    "    lst=[]\n",
    "    for i in lines:\n",
    "        lst.append(i)\n",
    "    trantab=str.maketrans(codes)\n",
    "    for i in range(len(lst)):\n",
    "        lst[i]=lst[i].translate(trantab)\n",
    "    with open(\"newshifr.txt\",'w') as output_file:\n",
    "        for st in lst:\n",
    "            output_file.write(st)\n",
    "    print(\"Зашифрованный текст записан в файл!\")"
   ]
  },
  {
   "cell_type": "code",
   "execution_count": 20,
   "metadata": {},
   "outputs": [
    {
     "name": "stdin",
     "output_type": "stream",
     "text": [
      "Введите имя файла:  qwerty.txt\n"
     ]
    },
    {
     "name": "stdout",
     "output_type": "stream",
     "text": [
      "Зашифрованный текст записан в файл!\n"
     ]
    }
   ],
   "source": [
    "shifr()"
   ]
  },
  {
   "cell_type": "code",
   "execution_count": 21,
   "metadata": {},
   "outputs": [
    {
     "name": "stdout",
     "output_type": "stream",
     "text": [
      "{'%': 'А', '9': 'а', '@': 'Б', '#': 'б', '1': 'В', 'q': 'в', '/': 'Г', '*': 'г', '2': 'Д', 'w': 'д', 'e': 'E', 'r': 'e', 't': 'Ж', 'y': 'ж', 'u': 'З', 'i': 'з', 'o': 'И', 'p': 'и', '!': 'Й', '№': 'й', '?': 'К', ')': 'к', '(': 'Л', '^': 'л', '&': 'М', '-': 'м', '+': 'Н', '}': 'н', '|': 'О', 'a': 'о', 's': 'П', 'd': 'п', 'f': 'Р', 'g': 'р', 'h': 'С', 'j': 'с', 'k': 'Т', 'l': 'т', ';': 'У', ':': 'у', '>': 'Ф', '<': 'ф', '=': 'Х', 'z': 'х', 'x': 'Ц', 'c': 'ц', 'v': 'Ч', 'b': 'ч', 'n': 'Ш', 'm': 'ш', '`': 'Щ', '~': 'щ', '3': 'ъ', '4': 'ы', '5': 'ь', '6': 'Э', '7': 'э', '8': 'Ю', ']': 'ю', '0': 'Я', '{': 'я'}\n"
     ]
    }
   ],
   "source": [
    "decodes={v:k for k, v in codes.items()}\n",
    "print(decodes)"
   ]
  },
  {
   "cell_type": "code",
   "execution_count": 23,
   "metadata": {},
   "outputs": [
    {
     "name": "stdout",
     "output_type": "stream",
     "text": [
      "Соображения высшего порядка, а также консультация с профессионалами из IT способствует повышению актуальности экономической целесообразности принимаемых решений.\n",
      "Разнообразный и богатый опыт рамки и место обучения кадров в значительной степени обуславливает создание всесторонне сбалансированных нововведенийК\n",
      "Повседневная практика показывает, что сложившаяся структура организации обеспечивает актуальность форм воздействия.\n",
      "Практический опыт показывает, что рамки и место обучения кадров представляет собой интересный эксперимент проверки соответствующих условий активизации. Задача организации, в особенности же сложившаяся структура организации способствует подготовке и реализации всесторонне сбалансированных нововведенийК С другой стороны социальномэкономическое развитие способствует повышению актуальности форм воздействия. Равным образом постоянный количественный рост и сфера нашей активности обеспечивает широкому кругу специалистов...\n"
     ]
    }
   ],
   "source": [
    "try:\n",
    "    with open(\"newshifr.txt\") as file:\n",
    "            lines=file.readlines()\n",
    "except FileNotFoundError:\n",
    "        print(\"Такого файла не существует\")  \n",
    "lst1=[]\n",
    "for i in lines:\n",
    "    lst1.append(i)\n",
    "trantab1=str.maketrans(decodes)\n",
    "for i in range(len(lst1)):\n",
    "        lst1[i]=lst1[i].translate(trantab1)  \n",
    "for st in lst1:\n",
    "    print(st.strip())"
   ]
  },
  {
   "cell_type": "code",
   "execution_count": null,
   "metadata": {},
   "outputs": [],
   "source": []
  },
  {
   "cell_type": "code",
   "execution_count": null,
   "metadata": {},
   "outputs": [],
   "source": []
  },
  {
   "cell_type": "code",
   "execution_count": null,
   "metadata": {},
   "outputs": [],
   "source": []
  }
 ],
 "metadata": {
  "kernelspec": {
   "display_name": "Python 3",
   "language": "python",
   "name": "python3"
  },
  "language_info": {
   "codemirror_mode": {
    "name": "ipython",
    "version": 3
   },
   "file_extension": ".py",
   "mimetype": "text/x-python",
   "name": "python",
   "nbconvert_exporter": "python",
   "pygments_lexer": "ipython3",
   "version": "3.7.4"
  }
 },
 "nbformat": 4,
 "nbformat_minor": 4
}
