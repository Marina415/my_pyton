{
 "cells": [
  {
   "cell_type": "code",
   "execution_count": 5,
   "metadata": {},
   "outputs": [],
   "source": [
    "import random\n",
    "import tkinter\n",
    "def translate():\n",
    "    if entry.get()==wordstransl[word]:\n",
    "        label3.config(text=\"Угадали!\")\n",
    "    else:\n",
    "        label3.config(text=\"Неверно!\")\n",
    "window = tkinter.Tk()\n",
    "\n",
    "res=tkinter.StringVar()\n",
    "res.set(\"Результат\")\n",
    "\n",
    "frame = tkinter.Frame(window)\n",
    "frame.pack()\n",
    "\n",
    "label = tkinter.Label(window, text = \"Случайное слово:\")\n",
    "label.pack()\n",
    "\n",
    "wordstransl={\"dog\":\"собака\",\"cat\":\"кошка\",\"ball\":\"мяч\",\"name\":\"имя\",\"book\":\"книга\",\"hand\":\"рука\",\"clock\":\"часы\",\"table\":\"стол\"}\n",
    "k=tuple(wordstransl.keys())\n",
    "word=random.choice(k)\n",
    "rndword=tkinter.Label(window, text=word)\n",
    "rndword.pack()\n",
    "\n",
    "label2 = tkinter.Label(window, text = \"Укажите перевод слова:\")\n",
    "label2.pack()\n",
    "var = tkinter.StringVar()\n",
    "\n",
    "entry = tkinter.Entry(window, textvariable=var)\n",
    "entry.pack()\n",
    "\n",
    "label3=tkinter.Label(window,text = \"Результат\")\n",
    "label3.pack()\n",
    "\n",
    "button=tkinter.Button(window, text='Готово!', command=translate)\n",
    "button.pack()\n",
    "\n",
    "\n",
    "def exit():\n",
    "    window.destroy()\n",
    "close=tkinter.Button(window, text='Выход', command=exit)\n",
    "close.pack()\n",
    "\n",
    "window.mainloop()"
   ]
  }
 ],
 "metadata": {
  "kernelspec": {
   "display_name": "Python 3",
   "language": "python",
   "name": "python3"
  },
  "language_info": {
   "codemirror_mode": {
    "name": "ipython",
    "version": 3
   },
   "file_extension": ".py",
   "mimetype": "text/x-python",
   "name": "python",
   "nbconvert_exporter": "python",
   "pygments_lexer": "ipython3",
   "version": "3.7.4"
  }
 },
 "nbformat": 4,
 "nbformat_minor": 4
}
