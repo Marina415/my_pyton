{
 "cells": [
  {
   "cell_type": "code",
   "execution_count": 35,
   "metadata": {},
   "outputs": [],
   "source": [
    "s = \"мой дядя самых честных правил, \\\n",
    "Когда не в шутку занемог, \\\n",
    "Он уважать себя заставил \\\n",
    "И лучше выдумать не мог\""
   ]
  },
  {
   "cell_type": "code",
   "execution_count": 41,
   "metadata": {},
   "outputs": [],
   "source": [
    "def delWords(s):\n",
    "    words=[]\n",
    "    for line in s.split(' '):\n",
    "        words.append(line)\n",
    "    for i in words:\n",
    "        str=list(i)\n",
    "        if str[0]==\"м\":\n",
    "            words.remove(i)\n",
    "    print(\" \".join(words))"
   ]
  },
  {
   "cell_type": "code",
   "execution_count": 42,
   "metadata": {},
   "outputs": [
    {
     "name": "stdout",
     "output_type": "stream",
     "text": [
      "дядя самых честных правил, Когда не в шутку занемог, Он уважать себя заставил И лучше выдумать не\n"
     ]
    }
   ],
   "source": [
    "delWords(s)"
   ]
  }
 ],
 "metadata": {
  "kernelspec": {
   "display_name": "Python 3",
   "language": "python",
   "name": "python3"
  },
  "language_info": {
   "codemirror_mode": {
    "name": "ipython",
    "version": 3
   },
   "file_extension": ".py",
   "mimetype": "text/x-python",
   "name": "python",
   "nbconvert_exporter": "python",
   "pygments_lexer": "ipython3",
   "version": "3.7.4"
  }
 },
 "nbformat": 4,
 "nbformat_minor": 4
}
