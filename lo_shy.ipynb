{
 "cells": [
  {
   "cell_type": "code",
   "execution_count": 1,
   "metadata": {},
   "outputs": [],
   "source": [
    "matrix=[[2,7,6],[9,5,1],[4,3,8]]"
   ]
  },
  {
   "cell_type": "code",
   "execution_count": 2,
   "metadata": {},
   "outputs": [],
   "source": [
    "def square(matrix):\n",
    "    i=0\n",
    "    for k in [0,1,2]:\n",
    "        if sum(matrix[k])==15:\n",
    "            i=i+1\n",
    "        if sum([row[k] for row in matrix]) ==15:\n",
    "            i=i+1\n",
    "    s=0\n",
    "    f=0\n",
    "    for k in [0,1,2]:\n",
    "        s=s+matrix[k][k]\n",
    "        f=f+matrix[k][2-k]\n",
    "    if s ==15 and f==15:\n",
    "        i=i+1\n",
    "    if i==7:\n",
    "        return \"True\"\n",
    "    else:\n",
    "        return \"False\"\n",
    "    "
   ]
  },
  {
   "cell_type": "code",
   "execution_count": 3,
   "metadata": {},
   "outputs": [
    {
     "data": {
      "text/plain": [
       "'True'"
      ]
     },
     "execution_count": 3,
     "metadata": {},
     "output_type": "execute_result"
    }
   ],
   "source": [
    "square(matrix)"
   ]
  },
  {
   "cell_type": "code",
   "execution_count": null,
   "metadata": {},
   "outputs": [],
   "source": []
  }
 ],
 "metadata": {
  "kernelspec": {
   "display_name": "Python 3",
   "language": "python",
   "name": "python3"
  },
  "language_info": {
   "codemirror_mode": {
    "name": "ipython",
    "version": 3
   },
   "file_extension": ".py",
   "mimetype": "text/x-python",
   "name": "python",
   "nbconvert_exporter": "python",
   "pygments_lexer": "ipython3",
   "version": "3.7.4"
  }
 },
 "nbformat": 4,
 "nbformat_minor": 4
}
