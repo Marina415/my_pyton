{
 "cells": [
  {
   "cell_type": "code",
   "execution_count": 15,
   "metadata": {},
   "outputs": [],
   "source": [
    "try:\n",
    "    with open('text.txt') as file:\n",
    "        lines=file.readlines()\n",
    "except FileNotFoundError:\n",
    "    print(\"Такого файла не существует\")\n",
    "lst=[]\n",
    "for i in lines:\n",
    "    lst.append(i)\n",
    "\n",
    "newlst=[]\n",
    "for i in range(len(lst)):\n",
    "    newlst.append(str(i+1)+\" \"+lst[i])"
   ]
  },
  {
   "cell_type": "code",
   "execution_count": 17,
   "metadata": {},
   "outputs": [],
   "source": [
    "with open(\"update_text.txt\",'w') as output_file:\n",
    "    for st in newlst:\n",
    "         output_file.write(st)"
   ]
  },
  {
   "cell_type": "code",
   "execution_count": null,
   "metadata": {},
   "outputs": [],
   "source": []
  }
 ],
 "metadata": {
  "kernelspec": {
   "display_name": "Python 3",
   "language": "python",
   "name": "python3"
  },
  "language_info": {
   "codemirror_mode": {
    "name": "ipython",
    "version": 3
   },
   "file_extension": ".py",
   "mimetype": "text/x-python",
   "name": "python",
   "nbconvert_exporter": "python",
   "pygments_lexer": "ipython3",
   "version": "3.7.4"
  }
 },
 "nbformat": 4,
 "nbformat_minor": 4
}
