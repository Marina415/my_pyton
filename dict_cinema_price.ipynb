{
 "cells": [
  {
   "cell_type": "code",
   "execution_count": 1,
   "metadata": {},
   "outputs": [],
   "source": [
    "cinema_dict={'Паразиты':\n",
    "             {'12':250,'16':350,'20':450},\n",
    "            '1947':\n",
    "            {'10':250,'13':350,'16':350},\n",
    "            'Соник в кино':\n",
    "            {'10':350,'14':450,'18':450}}"
   ]
  },
  {
   "cell_type": "code",
   "execution_count": 2,
   "metadata": {},
   "outputs": [],
   "source": [
    "def cinema(cinema_dict):\n",
    "    film=input(\"Выберите фильм:\")\n",
    "    day=input(\"Выберите день(сегодня/завтра):\")\n",
    "    time=input(\"Выберите время:\")\n",
    "    tikets=input(\"Выберите количество билетов:\")\n",
    "    disk=.0   \n",
    "    if day==\"завтра\":\n",
    "         disk=disk+0.05\n",
    "    if int(tikets)>=20:\n",
    "        disk=disk+0.2     \n",
    "    price=int(cinema_dict[film][time])*int(tikets)*(1-disk)\n",
    "    print(\"Стоимость:\",price)"
   ]
  },
  {
   "cell_type": "code",
   "execution_count": 3,
   "metadata": {},
   "outputs": [
    {
     "name": "stdin",
     "output_type": "stream",
     "text": [
      "Выберите фильм: Паразиты\n",
      "Выберите день(сегодня/завтра): завтра\n",
      "Выберите время: 12\n",
      "Выберите количество билетов: 5\n"
     ]
    },
    {
     "name": "stdout",
     "output_type": "stream",
     "text": [
      "Стоимость: 1187.5\n"
     ]
    }
   ],
   "source": [
    "cinema(cinema_dict)"
   ]
  },
  {
   "cell_type": "code",
   "execution_count": null,
   "metadata": {},
   "outputs": [],
   "source": []
  }
 ],
 "metadata": {
  "kernelspec": {
   "display_name": "Python 3",
   "language": "python",
   "name": "python3"
  },
  "language_info": {
   "codemirror_mode": {
    "name": "ipython",
    "version": 3
   },
   "file_extension": ".py",
   "mimetype": "text/x-python",
   "name": "python",
   "nbconvert_exporter": "python",
   "pygments_lexer": "ipython3",
   "version": "3.7.4"
  }
 },
 "nbformat": 4,
 "nbformat_minor": 4
}
