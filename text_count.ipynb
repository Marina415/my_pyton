{
 "cells": [
  {
   "cell_type": "code",
   "execution_count": 5,
   "metadata": {},
   "outputs": [
    {
     "name": "stdout",
     "output_type": "stream",
     "text": [
      "['No one is unaware of the name of that famous English shipowner, Cunard.', 'In 1840 this shrewd industrialist founded a postal service between Liverpool and Halifax, featuring three wooden ships with 400-horsepower paddle wheels and a burden of 1,162 metric tons.', \"Eight years later, the company's assets were increased by four 650-horsepower ships at 1,820 metric tons, and in two more years, by two other vessels of still greater power and tonnage.\", 'In 1853 the Cunard Co., whose mail-carrying charter had just been renewed, successively added to its assets the Arabia, the Persia, the China, the Scotia, the Java, and the Russia, all ships of top speed and, after the Great Eastern, the biggest ever to plow the seas.', 'So in 1867 this company owned twelve ships, eight with paddle wheels and four with propellers.', 'If I give these highly condensed details, it is so everyone can fully understand the importance of this maritime transportation company, known the world over for its shrewd management.', 'No transoceanic navigational undertaking has been conducted with more ability, no business dealings have been crowned with greater success.', 'In twenty-six years Cunard ships have made 2,000 Atlantic crossings without so much as a voyage canceled, a delay recorded, a man, a craft, or even a letter lost.', 'Accordingly, despite strong competition from France, passengers still choose the Cunard line in preference to all others, as can be seen in a recent survey of official documents.', 'Given this, no one will be astonished at the uproar provoked by this accident involving one of its finest steamers.']\n"
     ]
    }
   ],
   "source": [
    "try:\n",
    "    with open(\"text_count.txt\") as file:\n",
    "            lines=file.readlines()\n",
    "except FileNotFoundError:\n",
    "        print(\"Такого файла не существует\")       \n",
    "lst=[]\n",
    "for i in lines:\n",
    "    lst.append(i.strip())\n",
    "print(lst)"
   ]
  },
  {
   "cell_type": "code",
   "execution_count": 12,
   "metadata": {},
   "outputs": [
    {
     "name": "stdout",
     "output_type": "stream",
     "text": [
      "29\n"
     ]
    }
   ],
   "source": [
    "#количество букв в верхнем регистре\n",
    "upp=0\n",
    "for i in lst:\n",
    "    for j in list(i):\n",
    "        if j.isupper():\n",
    "            upp+=1\n",
    "print(upp)"
   ]
  },
  {
   "cell_type": "code",
   "execution_count": 11,
   "metadata": {},
   "outputs": [
    {
     "name": "stdout",
     "output_type": "stream",
     "text": [
      "1228\n"
     ]
    }
   ],
   "source": [
    "#количество букв в нижнем регистре\n",
    "low=0\n",
    "for i in lst:\n",
    "    for j in list(i):\n",
    "        if j.islower():\n",
    "            low+=1\n",
    "print(low)"
   ]
  },
  {
   "cell_type": "code",
   "execution_count": 13,
   "metadata": {},
   "outputs": [
    {
     "name": "stdout",
     "output_type": "stream",
     "text": [
      "250\n"
     ]
    }
   ],
   "source": [
    "#количество пробельных символов в файле\n",
    "pr=0\n",
    "for i in lst:\n",
    "    for j in list(i):\n",
    "        if j==\" \":\n",
    "            pr+=1\n",
    "print(pr)"
   ]
  },
  {
   "cell_type": "code",
   "execution_count": 26,
   "metadata": {},
   "outputs": [
    {
     "name": "stdout",
     "output_type": "stream",
     "text": [
      "26.0\n"
     ]
    }
   ],
   "source": [
    "#среднее количество слов в расчете на предложение\n",
    "words=[]\n",
    "for i in lst:\n",
    "    words.append(len(i.split(\" \")))\n",
    "try:\n",
    "    srzn=sum(words)/len(words)\n",
    "    print(srzn)\n",
    "except ZeroDivisionError:\n",
    "    print(\"Файл пустой\")\n"
   ]
  },
  {
   "cell_type": "code",
   "execution_count": 24,
   "metadata": {},
   "outputs": [
    {
     "name": "stdout",
     "output_type": "stream",
     "text": [
      "30\n"
     ]
    }
   ],
   "source": [
    "#количество цифр в файле\n",
    "num=0\n",
    "for i in lst:\n",
    "    for j in list(i):\n",
    "        if j.isdigit():\n",
    "            num+=1\n",
    "print(num)"
   ]
  }
 ],
 "metadata": {
  "kernelspec": {
   "display_name": "",
   "name": ""
  },
  "language_info": {
   "codemirror_mode": {
    "name": "ipython",
    "version": 3
   },
   "file_extension": ".py",
   "mimetype": "text/x-python",
   "name": "python",
   "nbconvert_exporter": "python",
   "pygments_lexer": "ipython3",
   "version": "3.7.4"
  }
 },
 "nbformat": 4,
 "nbformat_minor": 4
}
