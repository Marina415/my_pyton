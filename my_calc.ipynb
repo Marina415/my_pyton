{
 "cells": [
  {
   "cell_type": "code",
   "execution_count": 4,
   "metadata": {},
   "outputs": [],
   "source": [
    "def calculator():\n",
    "    try:\n",
    "        x=float(input(\"Введите перовое число: \"))\n",
    "        y=float(input(\"Введите второе число: \"))\n",
    "        oper=input(\"Введите оператор: \")\n",
    "        res=eval(str(x)+oper+str(y))\n",
    "        print(x,oper,y,\"=\",res)       \n",
    "    except ValueError:\n",
    "        print(\"Ошибка ввода данных\")\n",
    "    except SyntaxError:\n",
    "        print(\"Введен несуществующий оператор!\")\n",
    "    except ZeroDivisionError:\n",
    "        print(\"Ошибка деления на ноль!\")"
   ]
  },
  {
   "cell_type": "code",
   "execution_count": 12,
   "metadata": {},
   "outputs": [
    {
     "name": "stdin",
     "output_type": "stream",
     "text": [
      "Введите перовое число:  5\n",
      "Введите второе число:  8\n",
      "Введите оператор:  +\n"
     ]
    },
    {
     "name": "stdout",
     "output_type": "stream",
     "text": [
      "5.0 + 8.0 = 13.0\n"
     ]
    }
   ],
   "source": [
    "calculator()"
   ]
  }
 ],
 "metadata": {
  "kernelspec": {
   "display_name": "Python 3",
   "language": "python",
   "name": "python3"
  },
  "language_info": {
   "codemirror_mode": {
    "name": "ipython",
    "version": 3
   },
   "file_extension": ".py",
   "mimetype": "text/x-python",
   "name": "python",
   "nbconvert_exporter": "python",
   "pygments_lexer": "ipython3",
   "version": "3.7.4"
  }
 },
 "nbformat": 4,
 "nbformat_minor": 4
}
