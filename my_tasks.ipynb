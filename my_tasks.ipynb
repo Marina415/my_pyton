{
 "cells": [
  {
   "cell_type": "code",
   "execution_count": 1,
   "metadata": {},
   "outputs": [],
   "source": [
    "def tasks():\n",
    "    tasklst=[]\n",
    "    while True: \n",
    "        print(\"Простой todo: \\n 1. Добавить задачу. \\n 2. Вывести список задач. \\n 3. Выход.\")\n",
    "        n=input()              \n",
    "        if int(n)==2:\n",
    "            print('Список задач:')\n",
    "            for i in tasklst:\n",
    "                print(i)           \n",
    "        elif int(n)==1:\n",
    "            task=[] \n",
    "            x=input(\"Введите задачу:\")\n",
    "            y=input(\"Введите категорию задачи:\")\n",
    "            z=input(\"Введите срок исполнения:\")\n",
    "            task.append(\"Задача:\")\n",
    "            task.append(x)\n",
    "            task.append(\" Категория:\")\n",
    "            task.append(y)\n",
    "            task.append(\" Срок:\")\n",
    "            task.append(z)\n",
    "            task=' '.join(task)\n",
    "            tasklst.append(task)\n",
    "        else:\n",
    "            break\n",
    "    "
   ]
  }
 ],
 "metadata": {
  "kernelspec": {
   "display_name": "Python 3",
   "language": "python",
   "name": "python3"
  },
  "language_info": {
   "codemirror_mode": {
    "name": "ipython",
    "version": 3
   },
   "file_extension": ".py",
   "mimetype": "text/x-python",
   "name": "python",
   "nbconvert_exporter": "python",
   "pygments_lexer": "ipython3",
   "version": "3.7.4"
  }
 },
 "nbformat": 4,
 "nbformat_minor": 4
}
