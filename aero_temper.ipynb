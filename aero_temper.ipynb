{
 "cells": [
  {
   "cell_type": "code",
   "execution_count": 21,
   "metadata": {},
   "outputs": [
    {
     "name": "stdout",
     "output_type": "stream",
     "text": [
      "Минимум:  0.8\n",
      "Максимум:  28.2\n",
      "Средняя температура:  14.848309178743966\n",
      "Количество уникальных тепмератур:  217\n"
     ]
    }
   ],
   "source": [
    "with open('temp.txt') as file:\n",
    "    lines=file.readlines()\n",
    "lst=[]\n",
    "for i in lines:\n",
    "    lst.append(float(i.strip()))\n",
    "mintemp=min(lst)\n",
    "maxtemp=max(lst)\n",
    "srtemp=sum(lst)/len(lst)\n",
    "newlst=[]\n",
    "for i in lst:\n",
    "    if i not in newlst:\n",
    "        newlst.append(i)\n",
    "untemp=len(newlst)\n",
    "print(\"Минимум: \", mintemp)\n",
    "print(\"Максимум: \", maxtemp)\n",
    "print(\"Средняя температура: \", srtemp)\n",
    "print('Количество уникальных тепмератур: ',untemp)"
   ]
  },
  {
   "cell_type": "code",
   "execution_count": null,
   "metadata": {},
   "outputs": [],
   "source": []
  }
 ],
 "metadata": {
  "kernelspec": {
   "display_name": "Python 3",
   "language": "python",
   "name": "python3"
  },
  "language_info": {
   "codemirror_mode": {
    "name": "ipython",
    "version": 3
   },
   "file_extension": ".py",
   "mimetype": "text/x-python",
   "name": "python",
   "nbconvert_exporter": "python",
   "pygments_lexer": "ipython3",
   "version": "3.7.4"
  }
 },
 "nbformat": 4,
 "nbformat_minor": 4
}
