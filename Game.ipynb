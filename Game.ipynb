{
 "cells": [
  {
   "cell_type": "code",
   "execution_count": 68,
   "metadata": {},
   "outputs": [],
   "source": [
    "class Human:\n",
    "    def __init__(self, new_name='Человек без имени'):        \n",
    "        self._name = new_name \n",
    "        print(f'Появился новый человек... {self._name}')\n",
    "        self._object = 0 #счетчик предметов\n",
    "        self._cartridge=5 #счетчик патронов\n",
    "    def set_name(self,new_name):\n",
    "        self._name = new_name \n",
    "    def run(self):\n",
    "        if self._object > 7:\n",
    "            print(\"Слишком много предметов, бег невозможен\")\n",
    "        else:\n",
    "            print(f\"{self._name} бежит\")\n",
    "    def shooting(self):\n",
    "        if self._cartridge==0:\n",
    "            print(\"Нет патронов, стрельба невозможна\")\n",
    "        else:\n",
    "            print(f\"{self._name} выстрелил\")\n",
    "            self._cartridge-=1\n",
    "    def collecting(self):\n",
    "            print(f\"{self._name} взял предмет\")\n",
    "            self._object+=2\n",
    "            self._cartridge+=2\n",
    "    def throw(self):\n",
    "        self._object-=1"
   ]
  },
  {
   "cell_type": "code",
   "execution_count": 47,
   "metadata": {},
   "outputs": [],
   "source": [
    "class Angel:\n",
    "    flyind=0\n",
    "    def __init__(self, new_name='Ангел без имени'):        \n",
    "        self._name = new_name \n",
    "        print(f'Появился новый ангел... {self._name}')\n",
    "        self._object = 0 #счетчик предметов\n",
    "        self._cartridge=5 #счетчик патронов\n",
    "    def set_name(self, new_name):\n",
    "        self._name = new_name \n",
    "    def run(self,new_name):\n",
    "        if self._objet>5:\n",
    "            print(\"Слишком много предметов, бег невозможен\")\n",
    "        else:\n",
    "            print(f\"{new_name} бежит\")\n",
    "            flyind=0\n",
    "    def flight(self,new_name):\n",
    "        if self._object>3:\n",
    "            print(\"Слишком много предметов, полет невозможен\")\n",
    "        else:\n",
    "            print(f\"{new_name} летит\")\n",
    "            flyind=1\n",
    "    def shooting(self,new_name):\n",
    "        if self._cartridge==0:\n",
    "            print(\"Нет патронов, стрельба невозможна\")\n",
    "        elif flyind==1:\n",
    "            print(f\"{new_name} в полете, стрельба невозможна\")\n",
    "        else:\n",
    "            print(f\"{new_name} выстрелил\")\n",
    "            self._cartridge-=1\n",
    "    def collecting(self,new_name):\n",
    "        if flyind==1:\n",
    "            print(f\"{new_name} в полете, сбор предметов невозможен\")\n",
    "        else:\n",
    "            print(f\"{new_name} взял предмет\")\n",
    "            self._object+=1\n",
    "            self._cartridge+=2\n",
    "    def throw(self):\n",
    "        self._object-=1"
   ]
  },
  {
   "cell_type": "code",
   "execution_count": 48,
   "metadata": {},
   "outputs": [],
   "source": [
    "class Demon:\n",
    "    def __init__(self, new_name='Демон без имени'):        \n",
    "        self._name = new_name \n",
    "        print(f'Появился новый демон... {self._name}')\n",
    "        self._object = 0 #счетчик предметов\n",
    "        self._cartridge=5 #счетчик патронов\n",
    "    def set_name(self, new_name):\n",
    "        self._name = new_name \n",
    "    def run(self,new_name):\n",
    "        if self._object>5:\n",
    "            print(\"Слишком много предметов, бег невозможен\")\n",
    "        else:\n",
    "            print(f\"{new_name} бежит\")\n",
    "    def shooting(self,new_name):\n",
    "        if self._cartridge==0:\n",
    "            print(\"Нет патронов, стрельба невозможна\")\n",
    "        else:\n",
    "            print(f\"{new_name} выстрелил\")\n",
    "            self._cartridge-=1\n",
    "    def collecting(self,new_name):\n",
    "            print(f\"{new_name} взял предмет\")\n",
    "            self._object+=1\n",
    "            self._cartridge+=2\n",
    "    def throw(self):\n",
    "        self._object-=1"
   ]
  },
  {
   "cell_type": "code",
   "execution_count": 69,
   "metadata": {},
   "outputs": [],
   "source": [
    "class FlyingAngel(Angel):\n",
    "    def __init__(self,new_name=\"Летающий ангел без имени\"):\n",
    "        Angel.__init__(self,new_name=new_name)\n",
    "        self.flyspd=2 #скорость полета"
   ]
  },
  {
   "cell_type": "code",
   "execution_count": null,
   "metadata": {},
   "outputs": [],
   "source": []
  }
 ],
 "metadata": {
  "kernelspec": {
   "display_name": "Python 3",
   "language": "python",
   "name": "python3"
  },
  "language_info": {
   "codemirror_mode": {
    "name": "ipython",
    "version": 3
   },
   "file_extension": ".py",
   "mimetype": "text/x-python",
   "name": "python",
   "nbconvert_exporter": "python",
   "pygments_lexer": "ipython3",
   "version": "3.7.4"
  }
 },
 "nbformat": 4,
 "nbformat_minor": 4
}
